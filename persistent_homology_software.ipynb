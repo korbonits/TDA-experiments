{
 "cells": [
  {
   "cell_type": "markdown",
   "metadata": {
    "ein.tags": [
     "worksheet-0"
    ]
   },
   "source": [
    "Let's try out some persistent homology (PH) computations, using the best software on the open-source market!\n",
    "\n",
    "We will try to use the software recommended by [this recent survey](http://arxiv.org/abs/1506.08903), namely:\n",
    "\n",
    "* DIPHA : https://code.google.com/p/dipha/\n",
    "* GUDHI : http://gudhi.gforge.inria.fr/doc/1.1.0/\n",
    "\n",
    "Both are C++ libraries which we will call using the shell. The actual data manipulation and exploitation of results will of course by in Python!"
   ]
  },
  {
   "cell_type": "markdown",
   "metadata": {
    "ein.tags": [
     "worksheet-0"
    ]
   },
   "source": [
    "# Downloading and installing DIPHA and GUDHI"
   ]
  },
  {
   "cell_type": "code",
   "execution_count": null,
   "metadata": {
    "autoscroll": "json-false",
    "collapsed": false,
    "ein.tags": [
     "worksheet-0"
    ]
   },
   "outputs": [],
   "source": [
    "%%bash\n",
    "# We install first some dependencies; tested in Ubuntu 14.04\n",
    "# Unfortunately this cannot really be run in the notebook because of the sudo... I cheated and used the terminal!\n",
    "# DIPHA needs Open MPI\n",
    "sudo apt-get install libopenmpi-dev\n",
    "\n",
    "# GUDHI needs Boost\n",
    "sudo apt-get install libboost-all-dev"
   ]
  },
  {
   "cell_type": "markdown",
   "metadata": {
    "ein.tags": [
     "worksheet-0"
    ]
   },
   "source": [
    "Let us fetch the libraries:"
   ]
  },
  {
   "cell_type": "markdown",
   "metadata": {
    "ein.tags": [
     "worksheet-0"
    ]
   },
   "source": [
    "First GUDHI"
   ]
  },
  {
   "cell_type": "code",
   "execution_count": null,
   "metadata": {
    "autoscroll": "json-false",
    "collapsed": false,
    "ein.tags": [
     "worksheet-0"
    ]
   },
   "outputs": [],
   "source": [
    "%%bash\n",
    "mkdir ../gudhi\n",
    "wget -P ../gudhi https://gforge.inria.fr/frs/download.php/file/34396/Gudhi_library_1.1.0.zip\n",
    "wget -P ../gudhi https://gforge.inria.fr/frs/download.php/file/34397/Gudhi_doc_1.1.0.zip\n",
    "unzip -d ../gudhi ../gudhi/Gudhi_library_1.1.0.zip\n",
    "unzip -d ../gudhi ../gudhi/Gudhi_doc_1.1.0.zip\n",
    "rm ../gudhi/Gudhi_library_1.1.0.zip\n",
    "rm ../gudhi/Gudhi_doc_1.1.0.zip"
   ]
  },
  {
   "cell_type": "markdown",
   "metadata": {
    "ein.tags": [
     "worksheet-0"
    ]
   },
   "source": [
    "Let's have a look at what we just downloaded."
   ]
  },
  {
   "cell_type": "code",
   "execution_count": null,
   "metadata": {
    "autoscroll": "json-false",
    "collapsed": false,
    "ein.tags": [
     "worksheet-0"
    ]
   },
   "outputs": [],
   "source": [
    "!ls ../gudhi/Gudhi_library_1.1.0"
   ]
  },
  {
   "cell_type": "markdown",
   "metadata": {
    "ein.tags": [
     "worksheet-0"
    ]
   },
   "source": [
    "We build the library"
   ]
  },
  {
   "cell_type": "code",
   "execution_count": null,
   "metadata": {
    "autoscroll": "json-false",
    "collapsed": false,
    "ein.tags": [
     "worksheet-0"
    ]
   },
   "outputs": [],
   "source": [
    "%%bash\n",
    "cd ../gudhi/Gudhi_library_1.1.0\n",
    "mkdir build\n",
    "cd build/\n",
    "cmake -DCMAKE_BUILD_TYPE=Release ..\n",
    "make"
   ]
  },
  {
   "cell_type": "markdown",
   "metadata": {
    "ein.tags": [
     "worksheet-0"
    ]
   },
   "source": [
    "Not sure this has been built correctly since there is no main function in build/. However there are some functions built in the build/example folders which may do the work."
   ]
  },
  {
   "cell_type": "markdown",
   "metadata": {
    "ein.tags": [
     "worksheet-0"
    ]
   },
   "source": [
    "Now we do the same for DIPHA."
   ]
  },
  {
   "cell_type": "code",
   "execution_count": null,
   "metadata": {
    "autoscroll": "json-false",
    "collapsed": false,
    "ein.tags": [
     "worksheet-0"
    ]
   },
   "outputs": [],
   "source": [
    "%%bash\n",
    "mkdir ../dipha\n",
    "wget -P ../dipha https://docs.google.com/uc?id=0B7Yz6TPEpiGEYTZiMHkxZVpLUU0&export=download\n",
    "unzip -P ../dipha ../dipha/uc?id=0B7Yz6TPEpiGEYTZiMHkxZVpLUU0\n",
    "rm ../dipha/uc?id=0B7Yz6TPEpiGEYTZiMHkxZVpLUU0"
   ]
  },
  {
   "cell_type": "code",
   "execution_count": null,
   "metadata": {
    "autoscroll": "json-false",
    "collapsed": false,
    "ein.tags": [
     "worksheet-0"
    ]
   },
   "outputs": [],
   "source": [
    "!ls ../dipha/dipha-2.1.0/"
   ]
  },
  {
   "cell_type": "code",
   "execution_count": null,
   "metadata": {
    "autoscroll": "json-false",
    "collapsed": false,
    "ein.tags": [
     "worksheet-0"
    ]
   },
   "outputs": [],
   "source": [
    "%%bash\n",
    "cd ../dipha/dipha-2.1.0\n",
    "mkdir build\n",
    "cmake . \n",
    "make"
   ]
  },
  {
   "cell_type": "markdown",
   "metadata": {
    "ein.tags": [
     "worksheet-0"
    ]
   },
   "source": [
    "# Downloading interesting datasets"
   ]
  },
  {
   "cell_type": "markdown",
   "metadata": {
    "ein.tags": [
     "worksheet-0"
    ]
   },
   "source": [
    "Now that we have built the libraries, we can start using them. Let us gather some datasets which have proven interesting for PH in the litterature."
   ]
  },
  {
   "cell_type": "code",
   "execution_count": null,
   "metadata": {
    "autoscroll": "json-false",
    "collapsed": false,
    "ein.tags": [
     "worksheet-0"
    ]
   },
   "outputs": [],
   "source": [
    "%%bash\n",
    "# Genomic datasets from Raul Rabadan's lab, notably the ones from the \"Topology of viral evolution\" paper, but also some more recent ones\n",
    "mkdir ../datasets\n",
    "cd ../datasets\n",
    "git clone https://github.com/RabadanLab/ph_datasets.git\n",
    "mv ph_datasets rabadan/"
   ]
  },
  {
   "cell_type": "code",
   "execution_count": null,
   "metadata": {
    "autoscroll": "json-false",
    "collapsed": false,
    "ein.tags": [
     "worksheet-0"
    ]
   },
   "outputs": [],
   "source": [
    "!ls ../datasets/rabadan/pnas2013 "
   ]
  },
  {
   "cell_type": "code",
   "execution_count": null,
   "metadata": {
    "autoscroll": "json-false",
    "collapsed": false,
    "ein.tags": [
     "worksheet-0"
    ]
   },
   "outputs": [],
   "source": [
    "%%bash\n",
    "mv ../datasets/rabadan/pnas2013/avian_HA_nt_concat_jukes_cantor.csv  ../datasets/rabadan/pnas2013/HA.csv\n",
    "mv ../datasets/rabadan/pnas2013/avian_all_nt_concat_jukes_cantor.csv ../datasets/rabadan/pnas2013/all.csv"
   ]
  },
  {
   "cell_type": "markdown",
   "metadata": {
    "ein.tags": [
     "worksheet-0"
    ]
   },
   "source": [
    "# Reproducing some results of \"Topology of viral evolution\" using DIPHA"
   ]
  },
  {
   "cell_type": "markdown",
   "metadata": {
    "ein.tags": [
     "worksheet-0"
    ]
   },
   "source": [
    "The datasets in pnas2013 are presented as distance matrices. Out-of-the box, only DIPHA seems to support it, so we'll run with that.\n",
    "\n",
    "We have to do some work on the input files to make them compatible with the DIPHA distance matrix format. Namely, add \"8067171840 7 number_of_input_points\" in the correct binary format in the front, and convert all the floating point numbers to binary format as well.\n",
    "\n",
    "Moreover, the original dataset is presented as a condensed distance matrix, whereas DIPHA requires (as far as I can tell??) a redundant distance matrix, but all flattened line by line. So we first have to do that conversion, for which we can thank scipy. "
   ]
  },
  {
   "cell_type": "code",
   "execution_count": null,
   "metadata": {
    "autoscroll": "json-false",
    "collapsed": false,
    "ein.tags": [
     "worksheet-0"
    ]
   },
   "outputs": [],
   "source": [
    "# There are two datasets, correspoding to distances computed using either one specific segment (HA) of the influenza genome or the concatenation of several relevant segments.\n",
    "viral_HA_csv = \"../datasets/rabadan/pnas2013/HA.csv\"\n",
    "viral_all_csv = \"../datasets/rabadan/pnas2013/all.csv\"\n",
    "paths = [viral_HA_csv, viral_all_csv]\n",
    "paths_sym = [path.rstrip(\".csv\") + \".sym\" for path in paths]\n",
    "\n",
    "N = 3105"
   ]
  },
  {
   "cell_type": "code",
   "execution_count": null,
   "metadata": {
    "autoscroll": "json-false",
    "collapsed": false,
    "ein.tags": [
     "worksheet-0"
    ]
   },
   "outputs": [],
   "source": [
    "paths_sym"
   ]
  },
  {
   "cell_type": "code",
   "execution_count": null,
   "metadata": {
    "autoscroll": "json-false",
    "collapsed": false,
    "ein.tags": [
     "worksheet-0"
    ]
   },
   "outputs": [],
   "source": [
    "import struct\n",
    "import numpy as np\n",
    "from scipy.spatial.distance import squareform"
   ]
  },
  {
   "cell_type": "code",
   "execution_count": null,
   "metadata": {
    "autoscroll": "json-false",
    "collapsed": false,
    "ein.tags": [
     "worksheet-0"
    ]
   },
   "outputs": [],
   "source": [
    "for i in range(len(paths)):\n",
    "    arr = np.loadtxt(paths[i], delimiter=',')\n",
    "    dist = squareform(arr)\n",
    "    dist.tofile(paths_sym[i], sep = \",\")"
   ]
  },
  {
   "cell_type": "code",
   "execution_count": null,
   "metadata": {
    "autoscroll": "json-false",
    "collapsed": false,
    "ein.tags": [
     "worksheet-0"
    ]
   },
   "outputs": [],
   "source": [
    "# Wrap the painful binary file manipulation into a function\n",
    "magic = 8067171840\n",
    "magic_bytes = magic.to_bytes(8, byteorder=\"little\", signed=True)"
   ]
  },
  {
   "cell_type": "code",
   "execution_count": null,
   "metadata": {
    "autoscroll": "json-false",
    "collapsed": false,
    "ein.tags": [
     "worksheet-0"
    ]
   },
   "outputs": [],
   "source": [
    "def sym_dist_to_dipha(input_matrix, dipha_output, n_points):\n",
    "        import struct\n",
    "        \n",
    "        file_type = (7).to_bytes(8, byteorder=\"little\")\n",
    "                                 \n",
    "        with open(input_matrix, \"r\") as f, open(dipha_output, \"wb\") as g:\n",
    "            old = f.read()\n",
    "            dist = old.split(',')\n",
    "            dist_bytes = list(map(lambda fl: struct.pack('d',float(fl)), dist))\n",
    "            g.write(magic_bytes)\n",
    "            g.write(file_type)\n",
    "            g.write(n_points.to_bytes(8, byteorder=\"little\"))\n",
    "            g.write(b''.join(dist_bytes))"
   ]
  },
  {
   "cell_type": "code",
   "execution_count": null,
   "metadata": {
    "autoscroll": "json-false",
    "collapsed": false,
    "ein.tags": [
     "worksheet-0"
    ]
   },
   "outputs": [],
   "source": []
  },
  {
   "cell_type": "code",
   "execution_count": null,
   "metadata": {
    "autoscroll": "json-false",
    "collapsed": false,
    "ein.tags": [
     "worksheet-0"
    ]
   },
   "outputs": [],
   "source": [
    "for spath in paths_sym:\n",
    "    sym_dist_to_dipha(spath, spath.rstrip('.sym') + '.dipha', N)\n",
    "    "
   ]
  },
  {
   "cell_type": "code",
   "execution_count": null,
   "metadata": {
    "autoscroll": "json-false",
    "collapsed": false,
    "ein.tags": [
     "worksheet-0"
    ]
   },
   "outputs": [],
   "source": []
  },
  {
   "cell_type": "markdown",
   "metadata": {
    "ein.tags": [
     "worksheet-0"
    ]
   },
   "source": [
    "We can finally launch DIPHA on the trail."
   ]
  },
  {
   "cell_type": "code",
   "execution_count": null,
   "metadata": {
    "autoscroll": "json-false",
    "collapsed": false,
    "ein.tags": [
     "worksheet-0"
    ]
   },
   "outputs": [],
   "source": [
    "%%bash\n",
    "cd ../dipha/dipha-2.1.0/\n",
    "./dipha --upper_dim 2 ../../datasets/rabadan/pnas2013/HA.dipha ../../datasets/rabadan/pnas2013/HA_output.dipha\n"
   ]
  },
  {
   "cell_type": "markdown",
   "metadata": {
    "ein.tags": [
     "worksheet-0"
    ]
   },
   "source": [
    "Unless I put upper_dim to be 1 (which only computes persistent H_0), I get some kind of memory error. Is the dataset too big? Let's make a toy dataset to find out. I edited a small 4*4 distance matrix in test.sym."
   ]
  },
  {
   "cell_type": "code",
   "execution_count": null,
   "metadata": {
    "autoscroll": "json-false",
    "collapsed": false,
    "ein.tags": [
     "worksheet-0"
    ]
   },
   "outputs": [],
   "source": [
    "sym_dist_to_dipha('test.sym', 'test.dipha', 4)"
   ]
  },
  {
   "cell_type": "code",
   "execution_count": null,
   "metadata": {
    "autoscroll": "json-false",
    "collapsed": false,
    "ein.tags": [
     "worksheet-0"
    ]
   },
   "outputs": [],
   "source": [
    "%%bash\n",
    "cd ../dipha/dipha-2.1.0/\n",
    "./dipha --upper_dim 3 ../../notebooks/test.dipha ../../notebooks/test_output.dipha"
   ]
  },
  {
   "cell_type": "markdown",
   "metadata": {
    "ein.tags": [
     "worksheet-0"
    ]
   },
   "source": [
    "Yes, we definitely have a memory problem. Let us try to play with the option \"--upper_value\", with a \"--benchmark\" thrown in to have some insight on the memory usage."
   ]
  },
  {
   "cell_type": "code",
   "execution_count": null,
   "metadata": {
    "autoscroll": "json-false",
    "collapsed": false,
    "ein.tags": [
     "worksheet-0"
    ]
   },
   "outputs": [],
   "source": [
    "%%bash\n",
    "cd ../dipha/dipha-2.1.0/\n",
    "./dipha --benchmark --upper_dim 2 --upper_value 1 ../../datasets/rabadan/pnas2013/HA.dipha ../../datasets/rabadan/pnas2013/HA_output.dipha\n"
   ]
  },
  {
   "cell_type": "markdown",
   "metadata": {
    "ein.tags": [
     "worksheet-0"
    ]
   },
   "source": [
    "Conclusion: Dipha requires insane amounts of RAM for this task, at least for by my computer's standards (24Gb). I can't compute a single \"value\", whatever they are."
   ]
  },
  {
   "cell_type": "markdown",
   "metadata": {
    "ein.tags": [
     "worksheet-0"
    ]
   },
   "source": [
    "We only have one option left... \"--dual\" ! Another algorithm, maybe less memory intensive."
   ]
  },
  {
   "cell_type": "code",
   "execution_count": null,
   "metadata": {
    "autoscroll": "json-false",
    "collapsed": false,
    "ein.tags": [
     "worksheet-0"
    ]
   },
   "outputs": [],
   "source": [
    "%%bash\n",
    "cd ../dipha/dipha-2.1.0/\n",
    "./dipha --benchmark --dual --upper_dim 2 --upper_value 1 ../../datasets/rabadan/pnas2013/HA.dipha ../../datasets/rabadan/pnas2013/HA_output.dipha\n"
   ]
  },
  {
   "cell_type": "markdown",
   "metadata": {
    "ein.tags": [
     "worksheet-0"
    ]
   },
   "source": [
    "No, it's about as bad. We have to lower our ambitions and subsample the data. Let us try with a random, controlled fraction. \n",
    "\n",
    "With my configuration, I can go up to about 0.4 if going up to PH_1, and 0.1 if going up to PH_2. (In both cases, complexes with about 200*10^6 simplices)."
   ]
  },
  {
   "cell_type": "code",
   "execution_count": null,
   "metadata": {
    "autoscroll": "json-false",
    "collapsed": false,
    "ein.tags": [
     "worksheet-0"
    ]
   },
   "outputs": [],
   "source": [
    "import random\n",
    "\n",
    "def bernoulli(p):\n",
    "    return random.random() <= p\n",
    "\n",
    "fraction = 0.1\n",
    "\n",
    "sample_indices = np.array([bernoulli(fraction) for i in range(N)])\n",
    "N_sample = sample_indices.sum()"
   ]
  },
  {
   "cell_type": "code",
   "execution_count": null,
   "metadata": {
    "autoscroll": "json-false",
    "collapsed": false,
    "ein.tags": [
     "worksheet-0"
    ]
   },
   "outputs": [],
   "source": [
    "def sym_dist(sym_mat, sample_output, indices):\n",
    "    \n",
    "    n_sample = indices.sum()\n",
    "    \n",
    "    arr = np.loadtxt(sym_mat, delimiter=',')\n",
    "    sq_arr = arr.reshape(N,N)\n",
    "    sample_sq_arr = sq_arr[:,indices][indices,:]\n",
    "    sample_arr = sample_sq_arr.reshape(n_sample**2)\n",
    "    \n",
    "    sample_arr.tofile(sample_output, sep=',')        "
   ]
  },
  {
   "cell_type": "code",
   "execution_count": null,
   "metadata": {
    "autoscroll": "json-false",
    "collapsed": false,
    "ein.tags": [
     "worksheet-0"
    ]
   },
   "outputs": [],
   "source": [
    "paths_sym_sample = [path.rstrip('.sym') + '_sample.sym' for path in paths_sym]\n",
    "\n",
    "for path in paths_sym:\n",
    "    subsample_sym_dist(path, path.rstrip('.sym') + '_sample.sym', sample_indices)"
   ]
  },
  {
   "cell_type": "code",
   "execution_count": null,
   "metadata": {
    "autoscroll": "json-false",
    "collapsed": false,
    "ein.tags": [
     "worksheet-0"
    ]
   },
   "outputs": [],
   "source": [
    "paths_dipha_sample = [path.rstrip('.sym') + '.dipha' for path in paths_sym_sample]\n",
    "\n",
    "for path in paths_sym_sample:\n",
    "    sym_dist_to_dipha(path, path.rstrip('.sym') + '.dipha', int(N_sample))\n",
    "    "
   ]
  },
  {
   "cell_type": "markdown",
   "metadata": {
    "ein.tags": [
     "worksheet-0"
    ]
   },
   "source": [
    "We can now try to DIPHA this smaller dataset."
   ]
  },
  {
   "cell_type": "code",
   "execution_count": null,
   "metadata": {
    "autoscroll": "json-false",
    "collapsed": false,
    "ein.tags": [
     "worksheet-0"
    ]
   },
   "outputs": [],
   "source": [
    "%%bash\n",
    "cd ../dipha/dipha-2.1.0/\n",
    "./dipha --benchmark --dual --upper_dim 3 ../../datasets/rabadan/pnas2013/HA_sample.dipha ../../datasets/rabadan/pnas2013/HA_sample_output.dipha"
   ]
  },
  {
   "cell_type": "markdown",
   "metadata": {
    "ein.tags": [
     "worksheet-0"
    ]
   },
   "source": [
    "Here is a multiprocess version to speed things up; seems to provide only a 2x speedup even with 8 cores."
   ]
  },
  {
   "cell_type": "code",
   "execution_count": null,
   "metadata": {
    "autoscroll": "json-false",
    "collapsed": false,
    "ein.tags": [
     "worksheet-0"
    ]
   },
   "outputs": [],
   "source": [
    "%%bash\n",
    "cd ../dipha/dipha-2.1.0/\n",
    "mpiexec -n 8 ./dipha --benchmark --dual --upper_dim 3 ../../datasets/rabadan/pnas2013/HA_sample.dipha ../../datasets/rabadan/pnas2013/HA_sample_output.dipha"
   ]
  },
  {
   "cell_type": "code",
   "execution_count": null,
   "metadata": {
    "autoscroll": "json-false",
    "collapsed": false,
    "ein.tags": [
     "worksheet-0"
    ]
   },
   "outputs": [],
   "source": [
    "%%bash\n",
    "cd ../dipha/dipha-2.1.0/\n",
    "mpiexec -n 8 ./dipha --benchmark --dual --upper_dim 3 ../../datasets/rabadan/pnas2013/all_sample.dipha ../../datasets/rabadan/pnas2013/all_sample_output.dipha"
   ]
  },
  {
   "cell_type": "code",
   "execution_count": null,
   "metadata": {
    "autoscroll": "json-false",
    "collapsed": false,
    "ein.tags": [
     "worksheet-0"
    ],
    "scrolled": true
   },
   "outputs": [],
   "source": [
    "%%bash\n",
    "mpiexec -n 8 --path ../dipha/dipha-2.10/ dipha --benchmark --dual --upper_dim 1 ../../datasets/rabadan/pnas2013/all_sample.dipha ../../datasets/rabadan/pnas2013/all_sample_output.dipha"
   ]
  },
  {
   "cell_type": "markdown",
   "metadata": {
    "ein.tags": [
     "worksheet-0"
    ]
   },
   "source": [
    "The output is also binary, so we have to play the translation game in the other direction to save a numpy array."
   ]
  },
  {
   "cell_type": "code",
   "execution_count": null,
   "metadata": {
    "autoscroll": "json-false",
    "collapsed": false,
    "ein.tags": [
     "worksheet-0"
    ]
   },
   "outputs": [],
   "source": [
    "def dipha_output_to_npy(dipha_output, npy_file):\n",
    "    with open(dipha_output, 'rb') as f:\n",
    "        \n",
    "        file_type = (2).to_bytes(8, byteorder=\"little\")\n",
    "        assert f.read(16) == magic_bytes + file_type\n",
    "        \n",
    "        import struct\n",
    "        \n",
    "        n_bars = struct.unpack('<q', f.read(8))[0]\n",
    "\n",
    "        arr = np.zeros((n_bars,3))\n",
    "        \n",
    "        for i in range(n_bars):\n",
    "            arr[i,0] = struct.unpack('<q', f.read(8))[0]\n",
    "            arr[i,1] = struct.unpack('d', f.read(8))[0]\n",
    "            arr[i,2] = struct.unpack('d', f.read(8))[0]\n",
    "    \n",
    "    np.save(npy_file, arr)\n",
    "            \n",
    "            \n",
    "    "
   ]
  },
  {
   "cell_type": "code",
   "execution_count": null,
   "metadata": {
    "autoscroll": "json-false",
    "collapsed": false,
    "ein.tags": [
     "worksheet-0"
    ]
   },
   "outputs": [],
   "source": [
    "dipha_output_to_npy(\"../datasets/rabadan/pnas2013/HA_sample_output.dipha\", '../datasets/rabadan/pnas2013/HA_sample_output.npy')\n",
    "dipha_output_to_npy(\"../datasets/rabadan/pnas2013/all_sample_output.dipha\", '../datasets/rabadan/pnas2013/all_sample_output.npy')\n"
   ]
  },
  {
   "cell_type": "code",
   "execution_count": 1,
   "metadata": {
    "autoscroll": "json-false",
    "collapsed": false,
    "ein.tags": [
     "worksheet-0"
    ]
   },
   "outputs": [],
   "source": [
    "import matplotlib.pyplot as plt\n",
    "import numpy as np"
   ]
  },
  {
   "cell_type": "code",
   "execution_count": 2,
   "metadata": {
    "autoscroll": "json-false",
    "collapsed": false,
    "ein.tags": [
     "worksheet-0"
    ]
   },
   "outputs": [],
   "source": [
    "%matplotlib inline"
   ]
  },
  {
   "cell_type": "code",
   "execution_count": 37,
   "metadata": {
    "autoscroll": "json-false",
    "collapsed": false,
    "ein.tags": [
     "worksheet-0"
    ]
   },
   "outputs": [],
   "source": [
    "pers_diag_HA = np.load('../datasets/rabadan/pnas2013/HA_sample_output.npy')\n",
    "pers_diag_all = np.load('../datasets/rabadan/pnas2013/all_sample_output.npy')"
   ]
  },
  {
   "cell_type": "code",
   "execution_count": null,
   "metadata": {
    "autoscroll": "json-false",
    "collapsed": false,
    "ein.tags": [
     "worksheet-0"
    ],
    "scrolled": true
   },
   "outputs": [],
   "source": [
    "pers_diag_all[:,1]"
   ]
  },
  {
   "cell_type": "code",
   "execution_count": 11,
   "metadata": {
    "autoscroll": "json-false",
    "collapsed": false,
    "ein.tags": [
     "worksheet-0"
    ]
   },
   "outputs": [],
   "source": [
    "# Plotting the persistence diagram for each Betti number\n",
    "\n",
    "def plot_persistence_diagram(pers_diag):\n",
    "    \n",
    "    import matplotlib.pyplot as plt\n",
    "    betti_nums = pers_diag[:,0]\n",
    "    betti_max = betti_nums.max()\n",
    "    \n",
    "    x_coords = pers_diag[:,1]\n",
    "    y_coords = pers_diag[:,2]\n",
    "    \n",
    "    size = max(max(x_coords), max(y_coords))\n",
    "    \n",
    "    fig,ax = plt.subplots()\n",
    "    ax.scatter(pers_diag[:,1], pers_diag[:,2], c=betti_nums, s=40)\n",
    "    plt.plot([0,size], [0,size], ls=\"--\")"
   ]
  },
  {
   "cell_type": "code",
   "execution_count": 12,
   "metadata": {
    "autoscroll": "json-false",
    "collapsed": false,
    "ein.tags": [
     "worksheet-0"
    ]
   },
   "outputs": [
    {
     "ename": "NameError",
     "evalue": "name 'pers_diag_HA' is not defined",
     "output_type": "error",
     "traceback": [
      "\u001b[1;31m---------------------------------------------------------------------------\u001b[0m",
      "\u001b[1;31mNameError\u001b[0m                                 Traceback (most recent call last)",
      "\u001b[1;32m<ipython-input-12-f248dfab21fc>\u001b[0m in \u001b[0;36m<module>\u001b[1;34m()\u001b[0m\n\u001b[0;32m      1\u001b[0m \u001b[1;32mimport\u001b[0m \u001b[0mmatplotlib\u001b[0m\u001b[1;33m.\u001b[0m\u001b[0mpyplot\u001b[0m \u001b[1;32mas\u001b[0m \u001b[0mplt\u001b[0m\u001b[1;33m\u001b[0m\u001b[0m\n\u001b[0;32m      2\u001b[0m \u001b[1;33m\u001b[0m\u001b[0m\n\u001b[1;32m----> 3\u001b[1;33m \u001b[0mplot_persistence_diagram\u001b[0m\u001b[1;33m(\u001b[0m\u001b[0mpers_diag_HA\u001b[0m\u001b[1;33m)\u001b[0m\u001b[1;33m\u001b[0m\u001b[0m\n\u001b[0m\u001b[0;32m      4\u001b[0m \u001b[0mplot_persistence_diagram\u001b[0m\u001b[1;33m(\u001b[0m\u001b[0mpers_diag_all\u001b[0m\u001b[1;33m)\u001b[0m\u001b[1;33m\u001b[0m\u001b[0m\n\u001b[0;32m      5\u001b[0m \u001b[0mplt\u001b[0m\u001b[1;33m.\u001b[0m\u001b[0mshow\u001b[0m\u001b[1;33m(\u001b[0m\u001b[1;33m)\u001b[0m\u001b[1;33m\u001b[0m\u001b[0m\n",
      "\u001b[1;31mNameError\u001b[0m: name 'pers_diag_HA' is not defined"
     ]
    }
   ],
   "source": [
    "import matplotlib.pyplot as plt \n",
    "\n",
    "plot_persistence_diagram(pers_diag_HA)\n",
    "plot_persistence_diagram(pers_diag_all)\n",
    "plt.show()"
   ]
  },
  {
   "cell_type": "code",
   "execution_count": 13,
   "metadata": {
    "autoscroll": "json-false",
    "collapsed": false,
    "ein.tags": [
     "worksheet-0"
    ]
   },
   "outputs": [],
   "source": [
    "# Plotting the aggregate Betti curves\n",
    "\n",
    "def plot_betti_curves(pers_diag):\n",
    "    \n",
    "    import matplotlib.pyplot as plt\n",
    "    import numpy as np\n",
    "    # Assumes the bars are sorted by birth points\n",
    "    \n",
    "    betti_nums = pers_diag[:,0]\n",
    "    betti_max = int(betti_nums.max()) \n",
    "    \n",
    "    max_x = max(pers_diag[:,2])\n",
    "    \n",
    "    fig,ax = plt.subplots()\n",
    "    \n",
    "    for i in range(betti_max+1):\n",
    "        \n",
    "        bars_ind = (betti_nums == i)\n",
    "    \n",
    "        n_bars = bars_ind.sum()\n",
    "        min_coords = pers_diag[bars_ind,1]\n",
    "        max_coords = pers_diag[bars_ind,2]\n",
    "        \n",
    "        x = [i*max_x/1000 for i in range(1000)]\n",
    "        y = np.zeros(1000)\n",
    "        \n",
    "        # There are better algorithms. POITROAE.\n",
    "        for k in range(1000):\n",
    "            step = k*max_x/1000\n",
    "            \n",
    "            y[k] = len([j for j in range(n_bars) if min_coords[j]<= step and max_coords[j]> step ])\n",
    "        \n",
    "        ax.plot(x,y)\n",
    "    \n",
    "    plt.show()\n",
    "        "
   ]
  },
  {
   "cell_type": "code",
   "execution_count": 14,
   "metadata": {
    "autoscroll": "json-false",
    "collapsed": false,
    "ein.tags": [
     "worksheet-0"
    ]
   },
   "outputs": [
    {
     "ename": "NameError",
     "evalue": "name 'pers_diag_HA' is not defined",
     "output_type": "error",
     "traceback": [
      "\u001b[1;31m---------------------------------------------------------------------------\u001b[0m",
      "\u001b[1;31mNameError\u001b[0m                                 Traceback (most recent call last)",
      "\u001b[1;32m<ipython-input-14-feac4b025965>\u001b[0m in \u001b[0;36m<module>\u001b[1;34m()\u001b[0m\n\u001b[1;32m----> 1\u001b[1;33m \u001b[0mplot_betti_curves\u001b[0m\u001b[1;33m(\u001b[0m\u001b[0mpers_diag_HA\u001b[0m\u001b[1;33m)\u001b[0m\u001b[1;33m\u001b[0m\u001b[0m\n\u001b[0m\u001b[0;32m      2\u001b[0m \u001b[0mplot_betti_curves\u001b[0m\u001b[1;33m(\u001b[0m\u001b[0mpers_diag_all\u001b[0m\u001b[1;33m)\u001b[0m\u001b[1;33m\u001b[0m\u001b[0m\n",
      "\u001b[1;31mNameError\u001b[0m: name 'pers_diag_HA' is not defined"
     ]
    }
   ],
   "source": [
    "plot_betti_curves(pers_diag_HA)\n",
    "plot_betti_curves(pers_diag_all)"
   ]
  },
  {
   "cell_type": "markdown",
   "metadata": {
    "ein.tags": [
     "worksheet-0"
    ]
   },
   "source": [
    "Interestingly, the differences can be seen on a very small subsample."
   ]
  },
  {
   "cell_type": "markdown",
   "metadata": {
    "ein.tags": [
     "worksheet-0"
    ]
   },
   "source": [
    "# Wrapping everything in a function"
   ]
  },
  {
   "cell_type": "code",
   "execution_count": 3,
   "metadata": {
    "autoscroll": "json-false",
    "collapsed": false,
    "ein.tags": [
     "worksheet-0"
    ]
   },
   "outputs": [],
   "source": [
    "# Function taking a numpy condensed distance array or a distance matrix and plotting the persistent homology\n",
    "\n",
    "def dist_to_pers_plot(distances, input_type=\"condensed\", \n",
    "                      upper_dim=2, n_cores=8, \n",
    "                      save_output=False, output_path=''):\n",
    "    # TODO:\n",
    "    # - capture the output of --benchmark and process it, e.g to print total number of simplices\n",
    "    \n",
    "    # Imports\n",
    "    \n",
    "    import numpy as np\n",
    "    import struct\n",
    "    import subprocess, os\n",
    "    from scipy.spatial.distance import squareform\n",
    "    \n",
    "    # Transforming the input into a distance matrix\n",
    "    if input_type == \"condensed\":\n",
    "        dist_mat = squareform(distances)\n",
    "    elif input_type == \"matrix\":\n",
    "        dist_mat = distances\n",
    "    else:\n",
    "        raise\n",
    "\n",
    "    # Flattening out dist_mat \n",
    "    input_size = dist_mat.shape[0] \n",
    "    dist = dist_mat.reshape(input_size**2)\n",
    "    \n",
    "    # Writing a temporary input file in binary dipha format\n",
    "    temp_input_path = \"./input.dipha\"\n",
    "\n",
    "    \n",
    "    magic = 8067171840\n",
    "    magic_bytes = magic.to_bytes(8, byteorder=\"little\")\n",
    "    file_type = (7).to_bytes(8, byteorder=\"little\")\n",
    "                                 \n",
    "    with open(temp_input_path, \"wb\") as g:\n",
    "        dist_bytes = list(map(lambda fl: struct.pack('d',float(fl)), dist))\n",
    "        g.write(magic_bytes)\n",
    "        g.write(file_type)\n",
    "        g.write(input_size.to_bytes(8, byteorder=\"little\"))\n",
    "        g.write(b''.join(dist_bytes))\n",
    "\n",
    "    # Calling DIPHA\n",
    "    \n",
    "    temp_output_path = \"./output.dipha\"\n",
    "    \n",
    "    dipha_path = \"/home/simon/Documents/Data/TDA_programs/dipha/dipha-2.1.0/dipha\"\n",
    "     \n",
    "    command_list = [\"mpiexec\", \"-n\", str(n_cores),\n",
    "                    dipha_path, '--upper_dim', str(upper_dim), \n",
    "                    temp_input_path, temp_output_path]\n",
    "    \n",
    "    exit_code = subprocess.call(command_list)\n",
    "    #subprocess.call(command_list, shell=True)\n",
    "    \n",
    "    # Translating the output into a numpy array\n",
    "    with open(temp_output_path, 'rb') as f:\n",
    "        \n",
    "        file_type = (2).to_bytes(8, byteorder=\"little\")\n",
    "        assert f.read(16) == magic_bytes + file_type\n",
    "        \n",
    "        import struct\n",
    "        \n",
    "        n_bars = struct.unpack('<q', f.read(8))[0]\n",
    "\n",
    "        pers_diag = np.zeros((n_bars,3))\n",
    "        \n",
    "        for i in range(n_bars):\n",
    "            pers_diag[i,0] = struct.unpack('<q', f.read(8))[0]\n",
    "            pers_diag[i,1] = struct.unpack('d', f.read(8))[0]\n",
    "            pers_diag[i,2] = struct.unpack('d', f.read(8))[0]\n",
    "    \n",
    "    if save_output:\n",
    "        np.save(output_path, pers_diag)\n",
    "    \n",
    "    # Deleting the temp files\n",
    "    os.remove(temp_input_path)\n",
    "    os.remove(temp_output_path)\n",
    "    \n",
    "    # Printing the results\n",
    "    plot_persistence_diagram(pers_diag)\n",
    "    plot_betti_curves(pers_diag)"
   ]
  },
  {
   "cell_type": "markdown",
   "metadata": {
    "ein.tags": [
     "worksheet-0"
    ]
   },
   "source": [
    "# Artificial datasets"
   ]
  },
  {
   "cell_type": "markdown",
   "metadata": {
    "ein.tags": [
     "worksheet-0"
    ]
   },
   "source": [
    "We try some artificial dataset generators from scikit learn."
   ]
  },
  {
   "cell_type": "code",
   "execution_count": 4,
   "metadata": {
    "collapsed": true
   },
   "outputs": [],
   "source": [
    "%matplotlib inline"
   ]
  },
  {
   "cell_type": "code",
   "execution_count": 5,
   "metadata": {
    "collapsed": true
   },
   "outputs": [],
   "source": [
    "import matplotlib.pyplot as plt\n",
    "plt.rcParams['figure.figsize'] = (10.0, 8.0)"
   ]
  },
  {
   "cell_type": "code",
   "execution_count": 6,
   "metadata": {
    "autoscroll": "json-false",
    "collapsed": false,
    "ein.tags": [
     "worksheet-0"
    ]
   },
   "outputs": [],
   "source": [
    "from sklearn.datasets import make_swiss_roll, make_circles, make_checkerboard, make_s_curve, make_blobs\n",
    "from scipy.spatial.distance import pdist\n"
   ]
  },
  {
   "cell_type": "markdown",
   "metadata": {},
   "source": [
    "## Circles"
   ]
  },
  {
   "cell_type": "code",
   "execution_count": 7,
   "metadata": {
    "collapsed": false
   },
   "outputs": [
    {
     "data": {
      "text/plain": [
       "<matplotlib.collections.PathCollection at 0x7fb11c0fb128>"
      ]
     },
     "execution_count": 7,
     "metadata": {},
     "output_type": "execute_result"
    },
    {
     "data": {
      "image/png": "[encoded data removed]",
      "text/plain": [
       "<matplotlib.figure.Figure at 0x7fb11e5eda58>"
      ]
     },
     "metadata": {},
     "output_type": "display_data"
    }
   ],
   "source": [
    "noisy_circle = make_circles(100, factor=1, noise=0.1)[0]\n",
    "circle_dist = pdist(noisy_circle)\n",
    "\n",
    "plt.scatter(noisy_circle[:,0], noisy_circle[:,1],s=30)"
   ]
  },
  {
   "cell_type": "code",
   "execution_count": 15,
   "metadata": {
    "collapsed": false
   },
   "outputs": [
    {
     "data": {
      "image/png": "[encoded data removed]",
      "text/plain": [
       "<matplotlib.figure.Figure at 0x7fb11bee5f28>"
      ]
     },
     "metadata": {},
     "output_type": "display_data"
    },
    {
     "data": {
      "image/png": "[encoded data removed]",
      "text/plain": [
       "<matplotlib.figure.Figure at 0x7fb13ae4c6a0>"
      ]
     },
     "metadata": {},
     "output_type": "display_data"
    }
   ],
   "source": [
    "dist_to_pers_plot(circle_dist, upper_dim=3)"
   ]
  },
  {
   "cell_type": "code",
   "execution_count": 16,
   "metadata": {
    "collapsed": false
   },
   "outputs": [
    {
     "data": {
      "image/png": "[encoded data removed]",
      "text/plain": [
       "<matplotlib.figure.Figure at 0x7fb11bead860>"
      ]
     },
     "metadata": {},
     "output_type": "display_data"
    },
    {
     "data": {
      "image/png": "[encoded data removed]",
      "text/plain": [
       "<matplotlib.figure.Figure at 0x7fb11c029898>"
      ]
     },
     "metadata": {},
     "output_type": "display_data"
    },
    {
     "data": {
      "image/png": "[encoded data removed]",
      "text/plain": [
       "<matplotlib.figure.Figure at 0x7fb139d02048>"
      ]
     },
     "metadata": {},
     "output_type": "display_data"
    }
   ],
   "source": [
    "circles = make_circles(100, factor=0.5, noise=0.03)[0]\n",
    "circles_dist = pdist(circles)\n",
    "\n",
    "plt.scatter(circles[:,0], circles[:,1],s=30)\n",
    "\n",
    "dist_to_pers_plot(circles_dist, upper_dim=3)"
   ]
  },
  {
   "cell_type": "markdown",
   "metadata": {},
   "source": [
    "# High-dimensional Gaussian noise"
   ]
  },
  {
   "cell_type": "code",
   "execution_count": 17,
   "metadata": {
    "collapsed": false
   },
   "outputs": [
    {
     "data": {
      "image/png": "[encoded data removed]",
      "text/plain": [
       "<matplotlib.figure.Figure at 0x7fb139db42e8>"
      ]
     },
     "metadata": {},
     "output_type": "display_data"
    },
    {
     "data": {
      "image/png": "[encoded data removed]",
      "text/plain": [
       "<matplotlib.figure.Figure at 0x7fb13aec5550>"
      ]
     },
     "metadata": {},
     "output_type": "display_data"
    }
   ],
   "source": [
    "gaussian = make_blobs(n_samples=100, n_features=100, centers=1)[0]\n",
    "gaussian_dist = pdist(gaussian)\n",
    "\n",
    "dist_to_pers_plot(gaussian_dist, upper_dim=3)"
   ]
  },
  {
   "cell_type": "markdown",
   "metadata": {},
   "source": [
    "## Swiss rolls"
   ]
  },
  {
   "cell_type": "code",
   "execution_count": 18,
   "metadata": {
    "autoscroll": "json-false",
    "collapsed": false,
    "ein.tags": [
     "worksheet-0"
    ]
   },
   "outputs": [
    {
     "data": {
      "image/png": "[encoded data removed]",
      "text/plain": [
       "<matplotlib.figure.Figure at 0x7fb139cfb780>"
      ]
     },
     "metadata": {},
     "output_type": "display_data"
    },
    {
     "data": {
      "image/png": "[encoded data removed]",
      "text/plain": [
       "<matplotlib.figure.Figure at 0x7fb139c556d8>"
      ]
     },
     "metadata": {},
     "output_type": "display_data"
    }
   ],
   "source": [
    "swiss_dist = pdist(make_swiss_roll(100)[0])\n",
    "\n",
    "dist_to_pers_plot(swiss_dist, upper_dim=3)"
   ]
  },
  {
   "cell_type": "code",
   "execution_count": null,
   "metadata": {
    "collapsed": false
   },
   "outputs": [],
   "source": [
    "ls"
   ]
  },
  {
   "cell_type": "code",
   "execution_count": null,
   "metadata": {
    "collapsed": true
   },
   "outputs": [],
   "source": []
  }
 ],
 "metadata": {
  "kernelspec": {
   "display_name": "Python 3",
   "language": "python",
   "name": "python3"
  },
  "language_info": {
   "codemirror_mode": {
    "name": "ipython",
    "version": 3
   },
   "file_extension": ".py",
   "mimetype": "text/x-python",
   "name": "python",
   "nbconvert_exporter": "python",
   "pygments_lexer": "ipython3",
   "version": "3.4.3"
  },
  "name": "persistent_homology_software.ipynb"
 },
 "nbformat": 4,
 "nbformat_minor": 0
}
